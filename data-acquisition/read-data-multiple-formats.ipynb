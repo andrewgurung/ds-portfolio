{
 "cells": [
  {
   "cell_type": "markdown",
   "metadata": {},
   "source": [
    "# Read most commonly used file formats\n",
    "\n",
    "## Table of Contents\n",
    "1. Read CSV file: VDOT Traffic Volume dataset"
   ]
  },
  {
   "cell_type": "markdown",
   "metadata": {},
   "source": [
    "## Read CSV file\n",
    "- File type: CSV\n",
    "- Dataset: VDOT Traffic Volume\n",
    "- Average Daily Traffic (ADT) volumes with Vehicle Classification Data for most recent years, on Interstate, Arterial and Primary Routes. It also includes a list of each Interstate and Primary highway segment with the estimated Annual Average Week Day Traffic (AAWDT) for that segment."
   ]
  },
  {
   "cell_type": "code",
   "execution_count": 1,
   "metadata": {
    "scrolled": false
   },
   "outputs": [
    {
     "name": "stdout",
     "output_type": "stream",
     "text": [
      "(121811, 23)\n",
      "   OBJECTID                 DATA_DATE                 ROUTE_COMMON_NAME  \\\n",
      "0         1  2011-08-03T00:00:00.000Z        SC-2901N (Accomack County)   \n",
      "1         2  2013-05-15T00:00:00.000Z  SC-1383N (Prince William County)   \n",
      "2         3  2014-08-05T00:00:00.000Z         SC-2352N (Hanover County)   \n",
      "3         4  2013-04-04T00:00:00.000Z          SC-932N (Augusta County)   \n",
      "4         5  2005-06-13T00:00:00.000Z       SC-1331E (Dinwiddie County)   \n",
      "\n",
      "           START_LABEL            END_LABEL    ADT ADT_QUALITY  \\\n",
      "0            Bus US 13             Dead End  100.0           R   \n",
      "1           Cul-de-Sac  76-1279 Longview Dr   60.0           M   \n",
      "2  42-1685 Daffodil Rd  42-2351 Sydnor Lane  100.0           R   \n",
      "3             Dead End     0.11 MN Dead End    5.0           R   \n",
      "4    26-1325 Creek Ave           Cul-de-Sac   40.0           R   \n",
      "\n",
      "   PERCENT_4_TIRE  PERCENT_BUS  PERCENT_TRUCK_2_AXLE      ...       \\\n",
      "0             NaN          NaN                   NaN      ...        \n",
      "1             NaN          NaN                   NaN      ...        \n",
      "2             NaN          NaN                   NaN      ...        \n",
      "3             NaN          NaN                   NaN      ...        \n",
      "4             NaN          NaN                   NaN      ...        \n",
      "\n",
      "   CLASS_QUALITY_CODE  AAWDT  AAWDT_QUALITY_CODE      FROM_JURISDICTION  \\\n",
      "0                   X    NaN                   X        Accomack County   \n",
      "1                   X    NaN                   X  Prince William County   \n",
      "2                   X    NaN                   X         Hanover County   \n",
      "3                   X    NaN                   X         Augusta County   \n",
      "4                   X    NaN                   X       Dinwiddie County   \n",
      "\n",
      "         TO_JURISDICTION        ROUTE_NAME      FROM_DISTRICT  \\\n",
      "0        Accomack County  R-VA001SC02901NB      Hampton Roads   \n",
      "1  Prince William County  R-VA076SC01383NB  Northern Virginia   \n",
      "2         Hanover County  R-VA042SC02352NB           Richmond   \n",
      "3         Augusta County  R-VA007SC00932NB           Staunton   \n",
      "4       Dinwiddie County  R-VA026SC01331EB           Richmond   \n",
      "\n",
      "         TO_DISTRICT RTE_TYPE_CD Shape__Length  \n",
      "0      Hampton Roads          SC    253.337714  \n",
      "1  Northern Virginia          SC    111.903491  \n",
      "2           Richmond          SC    582.523332  \n",
      "3           Staunton          SC    288.684324  \n",
      "4           Richmond          SC     58.437794  \n",
      "\n",
      "[5 rows x 23 columns]\n"
     ]
    }
   ],
   "source": [
    "import pandas as pd\n",
    "# Relative file path\n",
    "vdot_csv_path = './datasets/VDOT_Traffic_Volume.csv'\n",
    "\n",
    "# load file as a Pandas DataFrame\n",
    "# low_memory=False: Pandas tries to determine what dtype to set by analyzing the data in each column\n",
    "vdotDf = pd.read_csv(vdot_csv_path, low_memory=False)\n",
    "\n",
    "# display row, column size\n",
    "print(vdotDf.shape)\n",
    "\n",
    "# display first 5 rows\n",
    "print(vdotDf.head(5))"
   ]
  },
  {
   "cell_type": "code",
   "execution_count": null,
   "metadata": {},
   "outputs": [],
   "source": []
  }
 ],
 "metadata": {
  "kernelspec": {
   "display_name": "Python 3",
   "language": "python",
   "name": "python3"
  },
  "language_info": {
   "codemirror_mode": {
    "name": "ipython",
    "version": 3
   },
   "file_extension": ".py",
   "mimetype": "text/x-python",
   "name": "python",
   "nbconvert_exporter": "python",
   "pygments_lexer": "ipython3",
   "version": "3.6.5"
  }
 },
 "nbformat": 4,
 "nbformat_minor": 2
}
