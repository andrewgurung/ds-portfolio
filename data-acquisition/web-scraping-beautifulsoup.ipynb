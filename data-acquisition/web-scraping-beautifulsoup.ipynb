{
 "cells": [
  {
   "cell_type": "markdown",
   "metadata": {},
   "source": [
    "# Web Scraping with BeautifulSoup\n",
    "\n",
    "Web scraping is a technique to extract data from multiple web pages. [Beautiful Soup](https://www.crummy.com/software/BeautifulSoup/) is a Python library designed for quick turnaround projects like screen-scraping.\n",
    "\n",
    "## What are we scraping?\n",
    "**Virginia Dangerous Dog Registry** is a **public**, searchable online database of dogs declared dangerous by local courts. It also serves as the mechanism by which local animal control officers must report dangerous dogs to the Virginia Department of Agriculture and Consumer Services.\n",
    "\n",
    "Source: https://dd.va-vdacs.com/\n",
    "\n",
    "## Table of Contents:\n",
    "1. [Import dependencies](#Install-and-Import-dependencies)\n",
    "2. [Make a POST request](#Make-a-POST-request)\n",
    "3. [Extracting Content from HTML](#Extracting-Content-from-HTML)\n",
    "4. [Export to a CSV file](#Export-to-a-CSV-file)"
   ]
  },
  {
   "cell_type": "markdown",
   "metadata": {},
   "source": [
    "## Install and import dependencies\n",
    "\n",
    "Install these two packages using the pip installer.\n",
    "\n",
    "```console\n",
    "$ pip install requests\n",
    "$ pip install beautifulsoup4\n",
    "```\n",
    "\n",
    "Import Dependencies\n",
    "1. Restful Call: *requests*\n",
    "2. BeautifulSoup: *BeautifulSoup*\n",
    "3. Regular Expressions: *re*\n",
    "4. Library to write to CSV: *csv*\n",
    "5. Pandas: *pd*"
   ]
  },
  {
   "cell_type": "code",
   "execution_count": 1,
   "metadata": {},
   "outputs": [],
   "source": [
    "# import dependencies\n",
    "import requests\n",
    "from bs4 import BeautifulSoup\n",
    "import re\n",
    "import csv\n",
    "import pandas as pd"
   ]
  },
  {
   "cell_type": "markdown",
   "metadata": {},
   "source": [
    "## Make a POST request\n",
    "Make a POST request with post data to get the search result"
   ]
  },
  {
   "cell_type": "code",
   "execution_count": 2,
   "metadata": {},
   "outputs": [],
   "source": [
    "# compose the post data that returns the entire search result\n",
    "postData = {'SYSJURISNO': 0,\n",
    "            'DD_TAG_NO': '', \n",
    "            'NAME': '', \n",
    "            'HOME_ADDRESS': '',\n",
    "            'HOME_ZIP': ''}\n",
    "\n",
    "# make a POST request\n",
    "r = requests.post('https://dd.va-vdacs.com/Public/PublicSearch', data=postData)"
   ]
  },
  {
   "cell_type": "markdown",
   "metadata": {},
   "source": [
    "Inspecting the Response"
   ]
  },
  {
   "cell_type": "code",
   "execution_count": 3,
   "metadata": {},
   "outputs": [
    {
     "name": "stdout",
     "output_type": "stream",
     "text": [
      "200\n"
     ]
    }
   ],
   "source": [
    "# inspecting status code\n",
    "print(r.status_code)"
   ]
  },
  {
   "cell_type": "code",
   "execution_count": 4,
   "metadata": {},
   "outputs": [],
   "source": [
    "# inspecting the response\n",
    "# print(r.text)"
   ]
  },
  {
   "cell_type": "markdown",
   "metadata": {},
   "source": [
    "## Extracting Content from HTML\n",
    "Note: The search results return 548 dogs with an additional header row."
   ]
  },
  {
   "cell_type": "code",
   "execution_count": 5,
   "metadata": {},
   "outputs": [
    {
     "data": {
      "text/plain": [
       "549"
      ]
     },
     "execution_count": 5,
     "metadata": {},
     "output_type": "execute_result"
    }
   ],
   "source": [
    "# Parse HTML DOM structure\n",
    "soup = BeautifulSoup(r.text, \"html.parser\")\n",
    "\n",
    "# entire search result\n",
    "table = soup.table\n",
    "\n",
    "# list of rows\n",
    "rows = table.findAll('tr')\n",
    "len(rows)"
   ]
  },
  {
   "cell_type": "markdown",
   "metadata": {},
   "source": [
    "### Data Cleaning\n",
    "- Remove the details column (A hyperlink to a details page)\n",
    "- Add an empty pandas dataframe with column headers"
   ]
  },
  {
   "cell_type": "code",
   "execution_count": 6,
   "metadata": {},
   "outputs": [],
   "source": [
    "# pandas column header\n",
    "col_header = ['locality', 'dog_name', 'dangerous_dog_tag', 'address', 'city', 'zip']\n",
    "\n",
    "# Create pandas dataframe to host dogs info\n",
    "dogsDf = pd.DataFrame(columns=col_header)\n",
    "\n",
    "# remove header row\n",
    "rows = rows[1:]"
   ]
  },
  {
   "cell_type": "markdown",
   "metadata": {},
   "source": [
    "Print a sample row"
   ]
  },
  {
   "cell_type": "code",
   "execution_count": 7,
   "metadata": {
    "scrolled": true
   },
   "outputs": [
    {
     "name": "stdout",
     "output_type": "stream",
     "text": [
      "<tr>\n",
      "<td>Accomack County</td>\n",
      "<td>Bentley</td>\n",
      "<td>0156</td>\n",
      "<td>22094 Sawyer Dr\r\n",
      "                <td>Greenbush\r\n",
      "                <td>23357\r\n",
      "                </td>\n",
      "<td class=\"text-center\">\n",
      "<a data-ajax=\"true\" data-ajax-mode=\"replace\" data-ajax-success=\"ShowDetails\" data-ajax-update=\"#dvDetails\" href=\"/Public/Details/1432\" style=\"text-decoration:none;padding-left:15px;padding-right:15px;\">Details</a>\n",
      "</td>\n",
      "</td></td></tr>\n"
     ]
    }
   ],
   "source": [
    "# print first row\n",
    "print(rows[0])"
   ]
  },
  {
   "cell_type": "markdown",
   "metadata": {},
   "source": [
    "**Warning:** The address column is a messy nested <td> element"
   ]
  },
  {
   "cell_type": "code",
   "execution_count": 8,
   "metadata": {},
   "outputs": [
    {
     "data": {
      "text/html": [
       "<div>\n",
       "<style scoped>\n",
       "    .dataframe tbody tr th:only-of-type {\n",
       "        vertical-align: middle;\n",
       "    }\n",
       "\n",
       "    .dataframe tbody tr th {\n",
       "        vertical-align: top;\n",
       "    }\n",
       "\n",
       "    .dataframe thead th {\n",
       "        text-align: right;\n",
       "    }\n",
       "</style>\n",
       "<table border=\"1\" class=\"dataframe\">\n",
       "  <thead>\n",
       "    <tr style=\"text-align: right;\">\n",
       "      <th></th>\n",
       "      <th>locality</th>\n",
       "      <th>dog_name</th>\n",
       "      <th>dangerous_dog_tag</th>\n",
       "      <th>address</th>\n",
       "      <th>city</th>\n",
       "      <th>zip</th>\n",
       "    </tr>\n",
       "  </thead>\n",
       "  <tbody>\n",
       "    <tr>\n",
       "      <th>0</th>\n",
       "      <td>Accomack County</td>\n",
       "      <td>Bentley</td>\n",
       "      <td>0156</td>\n",
       "      <td>22094 Sawyer Dr</td>\n",
       "      <td>Greenbush</td>\n",
       "      <td>23357</td>\n",
       "    </tr>\n",
       "    <tr>\n",
       "      <th>1</th>\n",
       "      <td>Albemarle County</td>\n",
       "      <td>Jaxson Luis Alvarez</td>\n",
       "      <td>1538</td>\n",
       "      <td>580 Radford Lane #207</td>\n",
       "      <td>Charlottesville</td>\n",
       "      <td>22903</td>\n",
       "    </tr>\n",
       "    <tr>\n",
       "      <th>2</th>\n",
       "      <td>Albemarle County</td>\n",
       "      <td>Kujo</td>\n",
       "      <td>2052</td>\n",
       "      <td>1398 Lonesome Mountain Hollow</td>\n",
       "      <td>Charlottesville</td>\n",
       "      <td>22903</td>\n",
       "    </tr>\n",
       "    <tr>\n",
       "      <th>3</th>\n",
       "      <td>Albemarle County</td>\n",
       "      <td>Blockhead</td>\n",
       "      <td>1657</td>\n",
       "      <td>8095 Langhorn Road</td>\n",
       "      <td>Scottsville</td>\n",
       "      <td>24590</td>\n",
       "    </tr>\n",
       "    <tr>\n",
       "      <th>4</th>\n",
       "      <td>Albemarle County</td>\n",
       "      <td>Max</td>\n",
       "      <td>2057</td>\n",
       "      <td>3558 Layton Drive</td>\n",
       "      <td>Charlottesville</td>\n",
       "      <td>22903</td>\n",
       "    </tr>\n",
       "  </tbody>\n",
       "</table>\n",
       "</div>"
      ],
      "text/plain": [
       "           locality             dog_name dangerous_dog_tag  \\\n",
       "0   Accomack County              Bentley              0156   \n",
       "1  Albemarle County  Jaxson Luis Alvarez              1538   \n",
       "2  Albemarle County                 Kujo              2052   \n",
       "3  Albemarle County            Blockhead              1657   \n",
       "4  Albemarle County                  Max              2057   \n",
       "\n",
       "                         address             city    zip  \n",
       "0                22094 Sawyer Dr        Greenbush  23357  \n",
       "1          580 Radford Lane #207  Charlottesville  22903  \n",
       "2  1398 Lonesome Mountain Hollow  Charlottesville  22903  \n",
       "3             8095 Langhorn Road      Scottsville  24590  \n",
       "4              3558 Layton Drive  Charlottesville  22903  "
      ]
     },
     "execution_count": 8,
     "metadata": {},
     "output_type": "execute_result"
    }
   ],
   "source": [
    "# extract dog information from result\n",
    "for row in rows:\n",
    "    dog = []\n",
    "    locality = row.find('td')\n",
    "    dogName = locality.find_next_sibling('td')\n",
    "    dogTag = dogName.find_next_sibling('td')\n",
    "    full_address = dogTag.find_next_sibling('td')\n",
    "    \n",
    "    # traverse through nested full_address which contains two part/elements <td>\n",
    "    # part 1: address\n",
    "    address = full_address.contents[0].strip()\n",
    "    \n",
    "    # part 2: city, zip, and details\n",
    "    city_zip_detail = full_address.contents[1]\n",
    "    \n",
    "    # extract city information\n",
    "    city = city_zip_detail.contents[0].strip()\n",
    "    \n",
    "    # extract zip code (nested <td> which contains zip and details)\n",
    "    zip_addr = city_zip_detail.contents[1].contents[0].strip()\n",
    "    \n",
    "    # compose dog\n",
    "    dog.append(locality.string)\n",
    "    dog.append(dogName.string)\n",
    "    dog.append(dogTag.string)\n",
    "    dog.append(address)\n",
    "    dog.append(city)\n",
    "    dog.append(zip_addr)\n",
    "    \n",
    "    # append to dogsDf dataframe\n",
    "    dogsDf = dogsDf.append(pd.Series(dog, index=dogsDf.columns), ignore_index=True)\n",
    "    \n",
    "dogsDf.head()"
   ]
  },
  {
   "cell_type": "markdown",
   "metadata": {},
   "source": [
    "## Export to a CSV file\n",
    "Use pandas dataframe `.to_csv()` method to generate CSV file"
   ]
  },
  {
   "cell_type": "code",
   "execution_count": 9,
   "metadata": {},
   "outputs": [],
   "source": [
    "dogsDf.to_csv('./datasets/va_dangerous_dog.csv')"
   ]
  }
 ],
 "metadata": {
  "kernelspec": {
   "display_name": "Python 3",
   "language": "python",
   "name": "python3"
  },
  "language_info": {
   "codemirror_mode": {
    "name": "ipython",
    "version": 3
   },
   "file_extension": ".py",
   "mimetype": "text/x-python",
   "name": "python",
   "nbconvert_exporter": "python",
   "pygments_lexer": "ipython3",
   "version": "3.6.5"
  }
 },
 "nbformat": 4,
 "nbformat_minor": 2
}
