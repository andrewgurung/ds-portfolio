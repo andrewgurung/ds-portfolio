{
 "cells": [
  {
   "cell_type": "markdown",
   "metadata": {},
   "source": [
    "# Read most commonly used file formats\n",
    "\n",
    "## Table of Contents\n",
    "1. [Read CSV file: VDOT Traffic Volume dataset](#Read-CSV-file)\n",
    "2. [Read Excel file: Virginia Pesticide Civil Penalty dataset](##Read-Excel-file)\n",
    "3. [Read tgz file: California Housing dataset  dataset](#Read-tgz-file)"
   ]
  },
  {
   "cell_type": "markdown",
   "metadata": {},
   "source": [
    "## Read CSV file\n",
    "- File type: CSV\n",
    "- Dataset: VDOT Traffic Volume\n",
    "- Average Daily Traffic (ADT) volumes with Vehicle Classification Data for most recent years, on Interstate, Arterial and Primary Routes. It also includes a list of each Interstate and Primary highway segment with the estimated Annual Average Week Day Traffic (AAWDT) for that segment."
   ]
  },
  {
   "cell_type": "code",
   "execution_count": 1,
   "metadata": {
    "scrolled": false
   },
   "outputs": [
    {
     "name": "stdout",
     "output_type": "stream",
     "text": [
      "   OBJECTID                 DATA_DATE                 ROUTE_COMMON_NAME  \\\n",
      "0         1  2011-08-03T00:00:00.000Z        SC-2901N (Accomack County)   \n",
      "1         2  2013-05-15T00:00:00.000Z  SC-1383N (Prince William County)   \n",
      "2         3  2014-08-05T00:00:00.000Z         SC-2352N (Hanover County)   \n",
      "\n",
      "           START_LABEL            END_LABEL    ADT ADT_QUALITY  \\\n",
      "0            Bus US 13             Dead End  100.0           R   \n",
      "1           Cul-de-Sac  76-1279 Longview Dr   60.0           M   \n",
      "2  42-1685 Daffodil Rd  42-2351 Sydnor Lane  100.0           R   \n",
      "\n",
      "   PERCENT_4_TIRE  PERCENT_BUS  PERCENT_TRUCK_2_AXLE      ...       \\\n",
      "0             NaN          NaN                   NaN      ...        \n",
      "1             NaN          NaN                   NaN      ...        \n",
      "2             NaN          NaN                   NaN      ...        \n",
      "\n",
      "   CLASS_QUALITY_CODE  AAWDT  AAWDT_QUALITY_CODE      FROM_JURISDICTION  \\\n",
      "0                   X    NaN                   X        Accomack County   \n",
      "1                   X    NaN                   X  Prince William County   \n",
      "2                   X    NaN                   X         Hanover County   \n",
      "\n",
      "         TO_JURISDICTION        ROUTE_NAME      FROM_DISTRICT  \\\n",
      "0        Accomack County  R-VA001SC02901NB      Hampton Roads   \n",
      "1  Prince William County  R-VA076SC01383NB  Northern Virginia   \n",
      "2         Hanover County  R-VA042SC02352NB           Richmond   \n",
      "\n",
      "         TO_DISTRICT RTE_TYPE_CD Shape__Length  \n",
      "0      Hampton Roads          SC    253.337714  \n",
      "1  Northern Virginia          SC    111.903491  \n",
      "2           Richmond          SC    582.523332  \n",
      "\n",
      "[3 rows x 23 columns]\n"
     ]
    }
   ],
   "source": [
    "import pandas as pd\n",
    "# Relative file path\n",
    "vdot_csv_path = './datasets/VDOT_Traffic_Volume.csv'\n",
    "\n",
    "# load file as a Pandas DataFrame\n",
    "# low_memory=False: Pandas tries to determine what dtype to set by analyzing the data in each column\n",
    "vdotDf = pd.read_csv(vdot_csv_path, low_memory=False)\n",
    "\n",
    "# display first 3 rows\n",
    "print(vdotDf.head(3))"
   ]
  },
  {
   "cell_type": "code",
   "execution_count": 2,
   "metadata": {},
   "outputs": [
    {
     "name": "stdout",
     "output_type": "stream",
     "text": [
      "<class 'pandas.core.frame.DataFrame'>\n",
      "RangeIndex: 121811 entries, 0 to 121810\n",
      "Data columns (total 23 columns):\n",
      "OBJECTID                 121811 non-null int64\n",
      "DATA_DATE                121811 non-null object\n",
      "ROUTE_COMMON_NAME        121811 non-null object\n",
      "START_LABEL              121811 non-null object\n",
      "END_LABEL                121811 non-null object\n",
      "ADT                      121803 non-null float64\n",
      "ADT_QUALITY              121811 non-null object\n",
      "PERCENT_4_TIRE           25457 non-null float64\n",
      "PERCENT_BUS              25457 non-null float64\n",
      "PERCENT_TRUCK_2_AXLE     25457 non-null float64\n",
      "PERCENT_TRUCK_3_AXLE     25457 non-null float64\n",
      "PERCENT_TRUCK_1_TRAIL    25457 non-null float64\n",
      "PERCENT_TRUCK_2_TRAIL    25457 non-null float64\n",
      "CLASS_QUALITY_CODE       121811 non-null object\n",
      "AAWDT                    27685 non-null float64\n",
      "AAWDT_QUALITY_CODE       121796 non-null object\n",
      "FROM_JURISDICTION        121714 non-null object\n",
      "TO_JURISDICTION          121646 non-null object\n",
      "ROUTE_NAME               121811 non-null object\n",
      "FROM_DISTRICT            120999 non-null object\n",
      "TO_DISTRICT              120961 non-null object\n",
      "RTE_TYPE_CD              121811 non-null object\n",
      "Shape__Length            121236 non-null float64\n",
      "dtypes: float64(9), int64(1), object(13)\n",
      "memory usage: 21.4+ MB\n"
     ]
    }
   ],
   "source": [
    "# display information about each column\n",
    "vdotDf.info()"
   ]
  },
  {
   "cell_type": "markdown",
   "metadata": {},
   "source": [
    "## Read Excel file\n",
    "- File type: Excel\n",
    "- Dataset: Virginia Pesticide Civil Penalty\n",
    "- Information about previous compliance actions against a pesticide business or an individual pesticide applicator."
   ]
  },
  {
   "cell_type": "code",
   "execution_count": 3,
   "metadata": {},
   "outputs": [
    {
     "name": "stdout",
     "output_type": "stream",
     "text": [
      "                        BUSINESS NAME TRADING AS NAME            ADDRESS  \\\n",
      "0       ACP LANDSCAPING AND LAWN CARE             NaN    58O4 NAVAJO CIR   \n",
      "1       ACP LANDSCAPING AND LAWN CARE             NaN    58O4 NAVAJO CIR   \n",
      "2  ADC LAWN CARE & BOBCAT SERVICE INC             NaN  8357 LEESVILLE RD   \n",
      "\n",
      "         CITY STATE    ZIP APPLICATOR NAME                   VIOLATION  \\\n",
      "0   LYNCHBURG    VA  24502   PUTNEY, ADAM          NO BUSINESS LICENSE   \n",
      "1   LYNCHBURG    VA  24502   PUTNEY, ADAM                NOT CERTIFIED   \n",
      "2  HUDDLESTON    VA  24104  HARMAN, ADAM M  SERVICE CONTAINER LABELING   \n",
      "\n",
      "  VIOLATION DATE STATUS  PENALTY AMT  \n",
      "0     2016-07-25   PAID          280  \n",
      "1     2016-07-25   PAID          280  \n",
      "2     2016-09-19   PAID          280  \n"
     ]
    }
   ],
   "source": [
    "import pandas as pd\n",
    "# Relative file path\n",
    "pesticides_penalty_xls_path = './datasets/pesticides.xls'\n",
    "\n",
    "# load file as a Pandas DataFrame\n",
    "pestiDf = pd.read_excel(pesticides_penalty_xls_path)\n",
    "\n",
    "# display first 3 rows\n",
    "print(pestiDf.head(3))"
   ]
  },
  {
   "cell_type": "code",
   "execution_count": 4,
   "metadata": {},
   "outputs": [
    {
     "name": "stdout",
     "output_type": "stream",
     "text": [
      "(123, 11)\n"
     ]
    }
   ],
   "source": [
    "# display row, column size\n",
    "print(pestiDf.shape)"
   ]
  },
  {
   "cell_type": "markdown",
   "metadata": {},
   "source": [
    "## Read tgz file\n",
    "- File type: tgz\n",
    "- Dataset: California Housing\n",
    "- Modified version of the California Housing dataset which was built using the 1990 California census data"
   ]
  },
  {
   "cell_type": "code",
   "execution_count": 5,
   "metadata": {},
   "outputs": [
    {
     "name": "stdout",
     "output_type": "stream",
     "text": [
      "   longitude  latitude  housing_median_age  total_rooms  total_bedrooms  \\\n",
      "0    -122.23     37.88                41.0        880.0           129.0   \n",
      "1    -122.22     37.86                21.0       7099.0          1106.0   \n",
      "2    -122.24     37.85                52.0       1467.0           190.0   \n",
      "\n",
      "   population  households  median_income  median_house_value ocean_proximity  \n",
      "0       322.0       126.0         8.3252            452600.0        NEAR BAY  \n",
      "1      2401.0      1138.0         8.3014            358500.0        NEAR BAY  \n",
      "2       496.0       177.0         7.2574            352100.0        NEAR BAY  \n"
     ]
    }
   ],
   "source": [
    "import tarfile\n",
    "import os\n",
    "import pandas as pd\n",
    "\n",
    "DATASET_ROOT = './datasets'\n",
    "housing_tgz_path = os.path.join(DATASET_ROOT, 'housing.tgz')\n",
    "\n",
    "# returns a TarFile object for the pathname name\n",
    "housing_tgz = tarfile.open(housing_tgz_path)\n",
    "\n",
    "# extract contents of tgz file\n",
    "housing_tgz.extractall(path=DATASET_ROOT)\n",
    "\n",
    "# close the tar file\n",
    "housing_tgz.close()\n",
    "\n",
    "# read the content of tgz file which is a csv file\n",
    "housing_csv_path = os.path.join(DATASET_ROOT, 'housing.csv')\n",
    "housingDf = pd.read_csv(housing_csv_path)\n",
    "\n",
    "# display first 3 rows\n",
    "print(housingDf.head(3))"
   ]
  }
 ],
 "metadata": {
  "kernelspec": {
   "display_name": "Python 3",
   "language": "python",
   "name": "python3"
  },
  "language_info": {
   "codemirror_mode": {
    "name": "ipython",
    "version": 3
   },
   "file_extension": ".py",
   "mimetype": "text/x-python",
   "name": "python",
   "nbconvert_exporter": "python",
   "pygments_lexer": "ipython3",
   "version": "3.6.5"
  }
 },
 "nbformat": 4,
 "nbformat_minor": 2
}
