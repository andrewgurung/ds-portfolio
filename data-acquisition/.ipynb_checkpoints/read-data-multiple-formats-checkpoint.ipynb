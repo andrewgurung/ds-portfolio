{
 "cells": [
  {
   "cell_type": "markdown",
   "metadata": {},
   "source": [
    "# Read most commonly used file formats\n",
    "\n",
    "## Table of Contents\n",
    "1. Utility method to read multiple file formats\n",
    "2. Read CSV file: Pima Indians dataset"
   ]
  },
  {
   "cell_type": "markdown",
   "metadata": {},
   "source": [
    "## Utility method to read multiple file formats"
   ]
  },
  {
   "cell_type": "code",
   "execution_count": 39,
   "metadata": {},
   "outputs": [],
   "source": [
    "import os\n",
    "import pandas as pd\n",
    "\n",
    "def read_file(file_path, col_names=''):\n",
    "    file_name, file_ext = os.path.splitext(file_path)\n",
    "    if file_ext == '.csv':\n",
    "        return pd.read_csv(file_path, names=col_names)"
   ]
  },
  {
   "cell_type": "markdown",
   "metadata": {},
   "source": [
    "## Read CSV file\n",
    "- File type: CSV\n",
    "- Dataset: Pima Indians Diabetes"
   ]
  },
  {
   "cell_type": "code",
   "execution_count": 40,
   "metadata": {},
   "outputs": [
    {
     "name": "stdout",
     "output_type": "stream",
     "text": [
      "(768, 9)\n",
      "   preg  plas  pres  skin  test  mass   pedi  age  class\n",
      "0     6   148    72    35     0  33.6  0.627   50      1\n",
      "1     1    85    66    29     0  26.6  0.351   31      0\n",
      "2     8   183    64     0     0  23.3  0.672   32      1\n",
      "3     1    89    66    23    94  28.1  0.167   21      0\n",
      "4     0   137    40    35   168  43.1  2.288   33      1\n"
     ]
    }
   ],
   "source": [
    "# File path: Relative\n",
    "pima_csv_path = './datasets/pima-indians-diabetes.data.csv'\n",
    "\n",
    "# define column names\n",
    "cols = ['preg', 'plas', 'pres', 'skin', 'test', 'mass', 'pedi', 'age', 'class']\n",
    "\n",
    "# load file as a Pandas DataFrame\n",
    "pimaDf = read_file(pima_csv_path, col_names=cols)\n",
    "\n",
    "# display row, column size\n",
    "print(pimaDf.shape)\n",
    "\n",
    "# display first 5 rows\n",
    "print(pimaDf.head(5))"
   ]
  },
  {
   "cell_type": "code",
   "execution_count": null,
   "metadata": {},
   "outputs": [],
   "source": []
  }
 ],
 "metadata": {
  "kernelspec": {
   "display_name": "Python 3",
   "language": "python",
   "name": "python3"
  },
  "language_info": {
   "codemirror_mode": {
    "name": "ipython",
    "version": 3
   },
   "file_extension": ".py",
   "mimetype": "text/x-python",
   "name": "python",
   "nbconvert_exporter": "python",
   "pygments_lexer": "ipython3",
   "version": "3.6.5"
  }
 },
 "nbformat": 4,
 "nbformat_minor": 2
}
