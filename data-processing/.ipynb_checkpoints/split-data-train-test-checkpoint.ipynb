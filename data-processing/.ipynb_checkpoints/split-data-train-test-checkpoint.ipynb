{
 "cells": [
  {
   "cell_type": "markdown",
   "metadata": {},
   "source": [
    "# Split data into train and test sets\n",
    "\n",
    "Train Test Split is basically a technique to randomly split data into training and test sets since training and testing a model on the same data will lead to overfitting. Typically test set is about 20% of the dataset.\n",
    "\n",
    "Data snooping refers to statistical inference that the researcher decides to perform after looking at the data.\n",
    "\n",
    "## Table of Contents\n",
    "1. [Split data using custom function](#1.-Split-data-using-custom-function)\n",
    "2. [Scikit-learn: train_test_split](#2.-Scikit-learn:-train_test_split)"
   ]
  },
  {
   "cell_type": "markdown",
   "metadata": {},
   "source": [
    "# 1. Split data using custom function\n",
    "### Define a custom function\n",
    "- Shuffle the indices\n",
    "- Select the test size/ratio\n",
    "- Split data based on the shuffled indices\n",
    "- Note: Random number generator `seed` can be set to replicate same shuffled indices over multiple reruns"
   ]
  },
  {
   "cell_type": "code",
   "execution_count": 1,
   "metadata": {},
   "outputs": [],
   "source": [
    "import numpy as np\n",
    "def split_train_test(data, test_ratio):\n",
    "    np.random.seed(42)\n",
    "    shuffled_indices = np.random.permutation(len(data))\n",
    "    test_set_size = int(len(data) * test_ratio)\n",
    "    train_set = data.iloc[shuffled_indices[test_set_size:]]\n",
    "    test_set = data.iloc[shuffled_indices[:test_set_size]]\n",
    "    return train_set, test_set"
   ]
  },
  {
   "cell_type": "markdown",
   "metadata": {},
   "source": [
    "### Import VDOT Traffic dataset and take a quick look"
   ]
  },
  {
   "cell_type": "code",
   "execution_count": 2,
   "metadata": {},
   "outputs": [
    {
     "name": "stdout",
     "output_type": "stream",
     "text": [
      "<class 'pandas.core.frame.DataFrame'>\n",
      "RangeIndex: 121811 entries, 0 to 121810\n",
      "Data columns (total 23 columns):\n",
      "OBJECTID                 121811 non-null int64\n",
      "DATA_DATE                121811 non-null object\n",
      "ROUTE_COMMON_NAME        121811 non-null object\n",
      "START_LABEL              121811 non-null object\n",
      "END_LABEL                121811 non-null object\n",
      "ADT                      121803 non-null float64\n",
      "ADT_QUALITY              121811 non-null object\n",
      "PERCENT_4_TIRE           25457 non-null float64\n",
      "PERCENT_BUS              25457 non-null float64\n",
      "PERCENT_TRUCK_2_AXLE     25457 non-null float64\n",
      "PERCENT_TRUCK_3_AXLE     25457 non-null float64\n",
      "PERCENT_TRUCK_1_TRAIL    25457 non-null float64\n",
      "PERCENT_TRUCK_2_TRAIL    25457 non-null float64\n",
      "CLASS_QUALITY_CODE       121811 non-null object\n",
      "AAWDT                    27685 non-null float64\n",
      "AAWDT_QUALITY_CODE       121796 non-null object\n",
      "FROM_JURISDICTION        121714 non-null object\n",
      "TO_JURISDICTION          121646 non-null object\n",
      "ROUTE_NAME               121811 non-null object\n",
      "FROM_DISTRICT            120999 non-null object\n",
      "TO_DISTRICT              120961 non-null object\n",
      "RTE_TYPE_CD              121811 non-null object\n",
      "Shape__Length            121236 non-null float64\n",
      "dtypes: float64(9), int64(1), object(13)\n",
      "memory usage: 21.4+ MB\n"
     ]
    },
    {
     "data": {
      "text/html": [
       "<div>\n",
       "<style scoped>\n",
       "    .dataframe tbody tr th:only-of-type {\n",
       "        vertical-align: middle;\n",
       "    }\n",
       "\n",
       "    .dataframe tbody tr th {\n",
       "        vertical-align: top;\n",
       "    }\n",
       "\n",
       "    .dataframe thead th {\n",
       "        text-align: right;\n",
       "    }\n",
       "</style>\n",
       "<table border=\"1\" class=\"dataframe\">\n",
       "  <thead>\n",
       "    <tr style=\"text-align: right;\">\n",
       "      <th></th>\n",
       "      <th>OBJECTID</th>\n",
       "      <th>DATA_DATE</th>\n",
       "      <th>ROUTE_COMMON_NAME</th>\n",
       "      <th>START_LABEL</th>\n",
       "      <th>END_LABEL</th>\n",
       "      <th>ADT</th>\n",
       "      <th>ADT_QUALITY</th>\n",
       "      <th>PERCENT_4_TIRE</th>\n",
       "      <th>PERCENT_BUS</th>\n",
       "      <th>PERCENT_TRUCK_2_AXLE</th>\n",
       "      <th>...</th>\n",
       "      <th>CLASS_QUALITY_CODE</th>\n",
       "      <th>AAWDT</th>\n",
       "      <th>AAWDT_QUALITY_CODE</th>\n",
       "      <th>FROM_JURISDICTION</th>\n",
       "      <th>TO_JURISDICTION</th>\n",
       "      <th>ROUTE_NAME</th>\n",
       "      <th>FROM_DISTRICT</th>\n",
       "      <th>TO_DISTRICT</th>\n",
       "      <th>RTE_TYPE_CD</th>\n",
       "      <th>Shape__Length</th>\n",
       "    </tr>\n",
       "  </thead>\n",
       "  <tbody>\n",
       "    <tr>\n",
       "      <th>0</th>\n",
       "      <td>1</td>\n",
       "      <td>2011-08-03T00:00:00.000Z</td>\n",
       "      <td>SC-2901N (Accomack County)</td>\n",
       "      <td>Bus US 13</td>\n",
       "      <td>Dead End</td>\n",
       "      <td>100.0</td>\n",
       "      <td>R</td>\n",
       "      <td>NaN</td>\n",
       "      <td>NaN</td>\n",
       "      <td>NaN</td>\n",
       "      <td>...</td>\n",
       "      <td>X</td>\n",
       "      <td>NaN</td>\n",
       "      <td>X</td>\n",
       "      <td>Accomack County</td>\n",
       "      <td>Accomack County</td>\n",
       "      <td>R-VA001SC02901NB</td>\n",
       "      <td>Hampton Roads</td>\n",
       "      <td>Hampton Roads</td>\n",
       "      <td>SC</td>\n",
       "      <td>253.337714</td>\n",
       "    </tr>\n",
       "    <tr>\n",
       "      <th>1</th>\n",
       "      <td>2</td>\n",
       "      <td>2013-05-15T00:00:00.000Z</td>\n",
       "      <td>SC-1383N (Prince William County)</td>\n",
       "      <td>Cul-de-Sac</td>\n",
       "      <td>76-1279 Longview Dr</td>\n",
       "      <td>60.0</td>\n",
       "      <td>M</td>\n",
       "      <td>NaN</td>\n",
       "      <td>NaN</td>\n",
       "      <td>NaN</td>\n",
       "      <td>...</td>\n",
       "      <td>X</td>\n",
       "      <td>NaN</td>\n",
       "      <td>X</td>\n",
       "      <td>Prince William County</td>\n",
       "      <td>Prince William County</td>\n",
       "      <td>R-VA076SC01383NB</td>\n",
       "      <td>Northern Virginia</td>\n",
       "      <td>Northern Virginia</td>\n",
       "      <td>SC</td>\n",
       "      <td>111.903491</td>\n",
       "    </tr>\n",
       "    <tr>\n",
       "      <th>2</th>\n",
       "      <td>3</td>\n",
       "      <td>2014-08-05T00:00:00.000Z</td>\n",
       "      <td>SC-2352N (Hanover County)</td>\n",
       "      <td>42-1685 Daffodil Rd</td>\n",
       "      <td>42-2351 Sydnor Lane</td>\n",
       "      <td>100.0</td>\n",
       "      <td>R</td>\n",
       "      <td>NaN</td>\n",
       "      <td>NaN</td>\n",
       "      <td>NaN</td>\n",
       "      <td>...</td>\n",
       "      <td>X</td>\n",
       "      <td>NaN</td>\n",
       "      <td>X</td>\n",
       "      <td>Hanover County</td>\n",
       "      <td>Hanover County</td>\n",
       "      <td>R-VA042SC02352NB</td>\n",
       "      <td>Richmond</td>\n",
       "      <td>Richmond</td>\n",
       "      <td>SC</td>\n",
       "      <td>582.523332</td>\n",
       "    </tr>\n",
       "  </tbody>\n",
       "</table>\n",
       "<p>3 rows × 23 columns</p>\n",
       "</div>"
      ],
      "text/plain": [
       "   OBJECTID                 DATA_DATE                 ROUTE_COMMON_NAME  \\\n",
       "0         1  2011-08-03T00:00:00.000Z        SC-2901N (Accomack County)   \n",
       "1         2  2013-05-15T00:00:00.000Z  SC-1383N (Prince William County)   \n",
       "2         3  2014-08-05T00:00:00.000Z         SC-2352N (Hanover County)   \n",
       "\n",
       "           START_LABEL            END_LABEL    ADT ADT_QUALITY  \\\n",
       "0            Bus US 13             Dead End  100.0           R   \n",
       "1           Cul-de-Sac  76-1279 Longview Dr   60.0           M   \n",
       "2  42-1685 Daffodil Rd  42-2351 Sydnor Lane  100.0           R   \n",
       "\n",
       "   PERCENT_4_TIRE  PERCENT_BUS  PERCENT_TRUCK_2_AXLE      ...       \\\n",
       "0             NaN          NaN                   NaN      ...        \n",
       "1             NaN          NaN                   NaN      ...        \n",
       "2             NaN          NaN                   NaN      ...        \n",
       "\n",
       "   CLASS_QUALITY_CODE  AAWDT  AAWDT_QUALITY_CODE      FROM_JURISDICTION  \\\n",
       "0                   X    NaN                   X        Accomack County   \n",
       "1                   X    NaN                   X  Prince William County   \n",
       "2                   X    NaN                   X         Hanover County   \n",
       "\n",
       "         TO_JURISDICTION        ROUTE_NAME      FROM_DISTRICT  \\\n",
       "0        Accomack County  R-VA001SC02901NB      Hampton Roads   \n",
       "1  Prince William County  R-VA076SC01383NB  Northern Virginia   \n",
       "2         Hanover County  R-VA042SC02352NB           Richmond   \n",
       "\n",
       "         TO_DISTRICT RTE_TYPE_CD Shape__Length  \n",
       "0      Hampton Roads          SC    253.337714  \n",
       "1  Northern Virginia          SC    111.903491  \n",
       "2           Richmond          SC    582.523332  \n",
       "\n",
       "[3 rows x 23 columns]"
      ]
     },
     "execution_count": 2,
     "metadata": {},
     "output_type": "execute_result"
    }
   ],
   "source": [
    "import pandas as pd\n",
    "\n",
    "# read dataset + quick look\n",
    "vdotDf = pd.read_csv('./datasets/VDOT_Traffic_Volume.csv')\n",
    "vdotDf.info()\n",
    "vdotDf.head(3)"
   ]
  },
  {
   "cell_type": "markdown",
   "metadata": {},
   "source": [
    "### Execute custom split_train_test()\n",
    "- Set test size to 20% or 0.2 ratio"
   ]
  },
  {
   "cell_type": "code",
   "execution_count": 3,
   "metadata": {},
   "outputs": [
    {
     "name": "stdout",
     "output_type": "stream",
     "text": [
      "(97449, 23)\n",
      "(24362, 23)\n"
     ]
    }
   ],
   "source": [
    "# execute split_train_test()\n",
    "train_set, test_set = split_train_test(vdotDf, 0.2)\n",
    "print(train_set.shape)\n",
    "print(test_set.shape)"
   ]
  },
  {
   "cell_type": "markdown",
   "metadata": {},
   "source": [
    "# 2. Scikit-learn: train_test_split\n",
    "Scikit-learn provides a `train_test_split` function to achieve the same thing as above. The `random_state` parameter allows to set random number generator `seed`."
   ]
  },
  {
   "cell_type": "code",
   "execution_count": 4,
   "metadata": {},
   "outputs": [
    {
     "name": "stdout",
     "output_type": "stream",
     "text": [
      "(97448, 23)\n",
      "(24363, 23)\n"
     ]
    }
   ],
   "source": [
    "import pandas as pd\n",
    "from sklearn.model_selection import train_test_split\n",
    "\n",
    "# read dataset\n",
    "vdotDf = pd.read_csv('./datasets/VDOT_Traffic_Volume.csv')\n",
    "\n",
    "# execute train_test_split\n",
    "train_set, test_set = train_test_split(vdotDf, test_size=0.2, random_state=42)\n",
    "\n",
    "# display set sizes\n",
    "print(train_set.shape)\n",
    "print(test_set.shape)"
   ]
  }
 ],
 "metadata": {
  "kernelspec": {
   "display_name": "Python 3",
   "language": "python",
   "name": "python3"
  },
  "language_info": {
   "codemirror_mode": {
    "name": "ipython",
    "version": 3
   },
   "file_extension": ".py",
   "mimetype": "text/x-python",
   "name": "python",
   "nbconvert_exporter": "python",
   "pygments_lexer": "ipython3",
   "version": "3.6.5"
  }
 },
 "nbformat": 4,
 "nbformat_minor": 2
}
