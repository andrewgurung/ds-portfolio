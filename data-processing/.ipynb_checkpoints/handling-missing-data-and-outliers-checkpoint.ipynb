{
 "cells": [
  {
   "cell_type": "markdown",
   "metadata": {},
   "source": [
    "# Handling missing data and outliers\n",
    "\n",
    "Data cleaning is one of the first steps in any Data Science project. It includes filtering and modifying data to make it easier to explore, understand and model.\n",
    "\n",
    "## Table of Contents\n",
    "1. [Missing data](#1.-Missing-data)\n",
    "2. [Outliers](#2.-Outliers)"
   ]
  },
  {
   "cell_type": "markdown",
   "metadata": {},
   "source": [
    "# 1. Missing data\n",
    "A few ways to handle missing data in pandas:\n",
    "\n",
    "- Check for NANs: pd.isnull(object)\n",
    "- Drop missing data: df.dropna(axis=0, how='any')\n",
    "- Replace missing data: df.replace(to_replace=None, value=None)\n",
    "- Drop a feature: df.drop('feature_variable_name', axis=1)"
   ]
  },
  {
   "cell_type": "markdown",
   "metadata": {},
   "source": [
    "### Import data"
   ]
  },
  {
   "cell_type": "code",
   "execution_count": 1,
   "metadata": {},
   "outputs": [
    {
     "data": {
      "text/html": [
       "<div>\n",
       "<style scoped>\n",
       "    .dataframe tbody tr th:only-of-type {\n",
       "        vertical-align: middle;\n",
       "    }\n",
       "\n",
       "    .dataframe tbody tr th {\n",
       "        vertical-align: top;\n",
       "    }\n",
       "\n",
       "    .dataframe thead th {\n",
       "        text-align: right;\n",
       "    }\n",
       "</style>\n",
       "<table border=\"1\" class=\"dataframe\">\n",
       "  <thead>\n",
       "    <tr style=\"text-align: right;\">\n",
       "      <th></th>\n",
       "      <th>OBJECTID</th>\n",
       "      <th>DATA_DATE</th>\n",
       "      <th>ROUTE_COMMON_NAME</th>\n",
       "      <th>START_LABEL</th>\n",
       "      <th>END_LABEL</th>\n",
       "      <th>ADT</th>\n",
       "      <th>ADT_QUALITY</th>\n",
       "      <th>PERCENT_4_TIRE</th>\n",
       "      <th>PERCENT_BUS</th>\n",
       "      <th>PERCENT_TRUCK_2_AXLE</th>\n",
       "      <th>...</th>\n",
       "      <th>CLASS_QUALITY_CODE</th>\n",
       "      <th>AAWDT</th>\n",
       "      <th>AAWDT_QUALITY_CODE</th>\n",
       "      <th>FROM_JURISDICTION</th>\n",
       "      <th>TO_JURISDICTION</th>\n",
       "      <th>ROUTE_NAME</th>\n",
       "      <th>FROM_DISTRICT</th>\n",
       "      <th>TO_DISTRICT</th>\n",
       "      <th>RTE_TYPE_CD</th>\n",
       "      <th>Shape__Length</th>\n",
       "    </tr>\n",
       "  </thead>\n",
       "  <tbody>\n",
       "    <tr>\n",
       "      <th>0</th>\n",
       "      <td>1</td>\n",
       "      <td>2011-08-03T00:00:00.000Z</td>\n",
       "      <td>SC-2901N (Accomack County)</td>\n",
       "      <td>Bus US 13</td>\n",
       "      <td>Dead End</td>\n",
       "      <td>100.0</td>\n",
       "      <td>R</td>\n",
       "      <td>NaN</td>\n",
       "      <td>NaN</td>\n",
       "      <td>NaN</td>\n",
       "      <td>...</td>\n",
       "      <td>X</td>\n",
       "      <td>NaN</td>\n",
       "      <td>X</td>\n",
       "      <td>Accomack County</td>\n",
       "      <td>Accomack County</td>\n",
       "      <td>R-VA001SC02901NB</td>\n",
       "      <td>Hampton Roads</td>\n",
       "      <td>Hampton Roads</td>\n",
       "      <td>SC</td>\n",
       "      <td>253.337714</td>\n",
       "    </tr>\n",
       "    <tr>\n",
       "      <th>1</th>\n",
       "      <td>2</td>\n",
       "      <td>2013-05-15T00:00:00.000Z</td>\n",
       "      <td>SC-1383N (Prince William County)</td>\n",
       "      <td>Cul-de-Sac</td>\n",
       "      <td>76-1279 Longview Dr</td>\n",
       "      <td>60.0</td>\n",
       "      <td>M</td>\n",
       "      <td>NaN</td>\n",
       "      <td>NaN</td>\n",
       "      <td>NaN</td>\n",
       "      <td>...</td>\n",
       "      <td>X</td>\n",
       "      <td>NaN</td>\n",
       "      <td>X</td>\n",
       "      <td>Prince William County</td>\n",
       "      <td>Prince William County</td>\n",
       "      <td>R-VA076SC01383NB</td>\n",
       "      <td>Northern Virginia</td>\n",
       "      <td>Northern Virginia</td>\n",
       "      <td>SC</td>\n",
       "      <td>111.903491</td>\n",
       "    </tr>\n",
       "    <tr>\n",
       "      <th>2</th>\n",
       "      <td>3</td>\n",
       "      <td>2014-08-05T00:00:00.000Z</td>\n",
       "      <td>SC-2352N (Hanover County)</td>\n",
       "      <td>42-1685 Daffodil Rd</td>\n",
       "      <td>42-2351 Sydnor Lane</td>\n",
       "      <td>100.0</td>\n",
       "      <td>R</td>\n",
       "      <td>NaN</td>\n",
       "      <td>NaN</td>\n",
       "      <td>NaN</td>\n",
       "      <td>...</td>\n",
       "      <td>X</td>\n",
       "      <td>NaN</td>\n",
       "      <td>X</td>\n",
       "      <td>Hanover County</td>\n",
       "      <td>Hanover County</td>\n",
       "      <td>R-VA042SC02352NB</td>\n",
       "      <td>Richmond</td>\n",
       "      <td>Richmond</td>\n",
       "      <td>SC</td>\n",
       "      <td>582.523332</td>\n",
       "    </tr>\n",
       "    <tr>\n",
       "      <th>3</th>\n",
       "      <td>4</td>\n",
       "      <td>2013-04-04T00:00:00.000Z</td>\n",
       "      <td>SC-932N (Augusta County)</td>\n",
       "      <td>Dead End</td>\n",
       "      <td>0.11 MN Dead End</td>\n",
       "      <td>5.0</td>\n",
       "      <td>R</td>\n",
       "      <td>NaN</td>\n",
       "      <td>NaN</td>\n",
       "      <td>NaN</td>\n",
       "      <td>...</td>\n",
       "      <td>X</td>\n",
       "      <td>NaN</td>\n",
       "      <td>X</td>\n",
       "      <td>Augusta County</td>\n",
       "      <td>Augusta County</td>\n",
       "      <td>R-VA007SC00932NB</td>\n",
       "      <td>Staunton</td>\n",
       "      <td>Staunton</td>\n",
       "      <td>SC</td>\n",
       "      <td>288.684324</td>\n",
       "    </tr>\n",
       "    <tr>\n",
       "      <th>4</th>\n",
       "      <td>5</td>\n",
       "      <td>2005-06-13T00:00:00.000Z</td>\n",
       "      <td>SC-1331E (Dinwiddie County)</td>\n",
       "      <td>26-1325 Creek Ave</td>\n",
       "      <td>Cul-de-Sac</td>\n",
       "      <td>40.0</td>\n",
       "      <td>R</td>\n",
       "      <td>NaN</td>\n",
       "      <td>NaN</td>\n",
       "      <td>NaN</td>\n",
       "      <td>...</td>\n",
       "      <td>X</td>\n",
       "      <td>NaN</td>\n",
       "      <td>X</td>\n",
       "      <td>Dinwiddie County</td>\n",
       "      <td>Dinwiddie County</td>\n",
       "      <td>R-VA026SC01331EB</td>\n",
       "      <td>Richmond</td>\n",
       "      <td>Richmond</td>\n",
       "      <td>SC</td>\n",
       "      <td>58.437794</td>\n",
       "    </tr>\n",
       "  </tbody>\n",
       "</table>\n",
       "<p>5 rows × 23 columns</p>\n",
       "</div>"
      ],
      "text/plain": [
       "   OBJECTID                 DATA_DATE                 ROUTE_COMMON_NAME  \\\n",
       "0         1  2011-08-03T00:00:00.000Z        SC-2901N (Accomack County)   \n",
       "1         2  2013-05-15T00:00:00.000Z  SC-1383N (Prince William County)   \n",
       "2         3  2014-08-05T00:00:00.000Z         SC-2352N (Hanover County)   \n",
       "3         4  2013-04-04T00:00:00.000Z          SC-932N (Augusta County)   \n",
       "4         5  2005-06-13T00:00:00.000Z       SC-1331E (Dinwiddie County)   \n",
       "\n",
       "           START_LABEL            END_LABEL    ADT ADT_QUALITY  \\\n",
       "0            Bus US 13             Dead End  100.0           R   \n",
       "1           Cul-de-Sac  76-1279 Longview Dr   60.0           M   \n",
       "2  42-1685 Daffodil Rd  42-2351 Sydnor Lane  100.0           R   \n",
       "3             Dead End     0.11 MN Dead End    5.0           R   \n",
       "4    26-1325 Creek Ave           Cul-de-Sac   40.0           R   \n",
       "\n",
       "   PERCENT_4_TIRE  PERCENT_BUS  PERCENT_TRUCK_2_AXLE      ...       \\\n",
       "0             NaN          NaN                   NaN      ...        \n",
       "1             NaN          NaN                   NaN      ...        \n",
       "2             NaN          NaN                   NaN      ...        \n",
       "3             NaN          NaN                   NaN      ...        \n",
       "4             NaN          NaN                   NaN      ...        \n",
       "\n",
       "   CLASS_QUALITY_CODE  AAWDT  AAWDT_QUALITY_CODE      FROM_JURISDICTION  \\\n",
       "0                   X    NaN                   X        Accomack County   \n",
       "1                   X    NaN                   X  Prince William County   \n",
       "2                   X    NaN                   X         Hanover County   \n",
       "3                   X    NaN                   X         Augusta County   \n",
       "4                   X    NaN                   X       Dinwiddie County   \n",
       "\n",
       "         TO_JURISDICTION        ROUTE_NAME      FROM_DISTRICT  \\\n",
       "0        Accomack County  R-VA001SC02901NB      Hampton Roads   \n",
       "1  Prince William County  R-VA076SC01383NB  Northern Virginia   \n",
       "2         Hanover County  R-VA042SC02352NB           Richmond   \n",
       "3         Augusta County  R-VA007SC00932NB           Staunton   \n",
       "4       Dinwiddie County  R-VA026SC01331EB           Richmond   \n",
       "\n",
       "         TO_DISTRICT RTE_TYPE_CD Shape__Length  \n",
       "0      Hampton Roads          SC    253.337714  \n",
       "1  Northern Virginia          SC    111.903491  \n",
       "2           Richmond          SC    582.523332  \n",
       "3           Staunton          SC    288.684324  \n",
       "4           Richmond          SC     58.437794  \n",
       "\n",
       "[5 rows x 23 columns]"
      ]
     },
     "execution_count": 1,
     "metadata": {},
     "output_type": "execute_result"
    }
   ],
   "source": [
    "import pandas as pd\n",
    "\n",
    "vdotDf = pd.read_csv('./datasets/VDOT_Traffic_Volume.csv')\n",
    "vdotDf.head(5)"
   ]
  },
  {
   "cell_type": "code",
   "execution_count": 2,
   "metadata": {},
   "outputs": [
    {
     "data": {
      "text/plain": [
       "(121811, 23)"
      ]
     },
     "execution_count": 2,
     "metadata": {},
     "output_type": "execute_result"
    }
   ],
   "source": [
    "vdotDf.shape"
   ]
  },
  {
   "cell_type": "markdown",
   "metadata": {},
   "source": [
    "### Check for missing data"
   ]
  },
  {
   "cell_type": "code",
   "execution_count": 3,
   "metadata": {},
   "outputs": [
    {
     "data": {
      "text/plain": [
       "OBJECTID                     0\n",
       "DATA_DATE                    0\n",
       "ROUTE_COMMON_NAME            0\n",
       "START_LABEL                  0\n",
       "END_LABEL                    0\n",
       "ADT                          8\n",
       "ADT_QUALITY                  0\n",
       "PERCENT_4_TIRE           96354\n",
       "PERCENT_BUS              96354\n",
       "PERCENT_TRUCK_2_AXLE     96354\n",
       "PERCENT_TRUCK_3_AXLE     96354\n",
       "PERCENT_TRUCK_1_TRAIL    96354\n",
       "PERCENT_TRUCK_2_TRAIL    96354\n",
       "CLASS_QUALITY_CODE           0\n",
       "AAWDT                    94126\n",
       "AAWDT_QUALITY_CODE          15\n",
       "FROM_JURISDICTION           97\n",
       "TO_JURISDICTION            165\n",
       "ROUTE_NAME                   0\n",
       "FROM_DISTRICT              812\n",
       "TO_DISTRICT                850\n",
       "RTE_TYPE_CD                  0\n",
       "Shape__Length              575\n",
       "dtype: int64"
      ]
     },
     "execution_count": 3,
     "metadata": {},
     "output_type": "execute_result"
    }
   ],
   "source": [
    "missing_data = vdotDf.isnull().sum()\n",
    "missing_data"
   ]
  },
  {
   "cell_type": "markdown",
   "metadata": {},
   "source": [
    "### Missing data percentage"
   ]
  },
  {
   "cell_type": "code",
   "execution_count": 4,
   "metadata": {},
   "outputs": [
    {
     "data": {
      "text/plain": [
       "24.08478137727977"
      ]
     },
     "execution_count": 4,
     "metadata": {},
     "output_type": "execute_result"
    }
   ],
   "source": [
    "import numpy as np\n",
    "(missing_data.sum()/np.product(vdotDf.shape))*100"
   ]
  },
  {
   "cell_type": "markdown",
   "metadata": {},
   "source": [
    "### Drop rows\n",
    "- Delete a row if the column value is null or NaN\n",
    "- Warning: `dropna()` can end up deleting important row/column"
   ]
  },
  {
   "cell_type": "code",
   "execution_count": 5,
   "metadata": {},
   "outputs": [
    {
     "data": {
      "text/plain": [
       "(25457, 23)"
      ]
     },
     "execution_count": 5,
     "metadata": {},
     "output_type": "execute_result"
    }
   ],
   "source": [
    "del_cols = ['PERCENT_4_TIRE', 'PERCENT_BUS', 'PERCENT_TRUCK_2_AXLE', 'PERCENT_TRUCK_3_AXLE', 'PERCENT_TRUCK_1_TRAIL','PERCENT_TRUCK_2_TRAIL']\n",
    "vdotDf = vdotDf.dropna(subset=del_cols)\n",
    "vdotDf.shape"
   ]
  },
  {
   "cell_type": "markdown",
   "metadata": {},
   "source": [
    "### Replace missing data\n",
    "- Missing data can be replaced by mean, median or mode\n",
    "- Warning: This is just an example. Replacing missing data with mean value is **not** ideal in this case"
   ]
  },
  {
   "cell_type": "code",
   "execution_count": 6,
   "metadata": {},
   "outputs": [],
   "source": [
    "vdotDf['Shape__Length'].fillna((vdotDf['Shape__Length']).mean(), inplace=True)"
   ]
  },
  {
   "cell_type": "markdown",
   "metadata": {},
   "source": [
    "### After dropping and replacing rows"
   ]
  },
  {
   "cell_type": "code",
   "execution_count": 7,
   "metadata": {},
   "outputs": [
    {
     "data": {
      "text/plain": [
       "OBJECTID                   0\n",
       "DATA_DATE                  0\n",
       "ROUTE_COMMON_NAME          0\n",
       "START_LABEL                0\n",
       "END_LABEL                  0\n",
       "ADT                        0\n",
       "ADT_QUALITY                0\n",
       "PERCENT_4_TIRE             0\n",
       "PERCENT_BUS                0\n",
       "PERCENT_TRUCK_2_AXLE       0\n",
       "PERCENT_TRUCK_3_AXLE       0\n",
       "PERCENT_TRUCK_1_TRAIL      0\n",
       "PERCENT_TRUCK_2_TRAIL      0\n",
       "CLASS_QUALITY_CODE         0\n",
       "AAWDT                     19\n",
       "AAWDT_QUALITY_CODE         0\n",
       "FROM_JURISDICTION         25\n",
       "TO_JURISDICTION           58\n",
       "ROUTE_NAME                 0\n",
       "FROM_DISTRICT            462\n",
       "TO_DISTRICT              484\n",
       "RTE_TYPE_CD                0\n",
       "Shape__Length              0\n",
       "dtype: int64"
      ]
     },
     "execution_count": 7,
     "metadata": {},
     "output_type": "execute_result"
    }
   ],
   "source": [
    "missing_data = vdotDf.isnull().sum()\n",
    "missing_data"
   ]
  },
  {
   "cell_type": "markdown",
   "metadata": {},
   "source": [
    "# 2. Outliers\n",
    "Outliers in a dataset can be found using z-score. \n",
    "\n",
    "Z-score is the number of standard deviations from the mean a data point is. It ranges from -3 standard deviations (which would fall to the far left of the normal distribution curve) up to +3 standard deviations."
   ]
  },
  {
   "cell_type": "markdown",
   "metadata": {},
   "source": [
    "### List columns with numeric values"
   ]
  },
  {
   "cell_type": "code",
   "execution_count": 8,
   "metadata": {},
   "outputs": [
    {
     "data": {
      "text/plain": [
       "OBJECTID                   int64\n",
       "ADT                      float64\n",
       "PERCENT_4_TIRE           float64\n",
       "PERCENT_BUS              float64\n",
       "PERCENT_TRUCK_2_AXLE     float64\n",
       "PERCENT_TRUCK_3_AXLE     float64\n",
       "PERCENT_TRUCK_1_TRAIL    float64\n",
       "PERCENT_TRUCK_2_TRAIL    float64\n",
       "AAWDT                    float64\n",
       "Shape__Length            float64\n",
       "dtype: object"
      ]
     },
     "execution_count": 8,
     "metadata": {},
     "output_type": "execute_result"
    }
   ],
   "source": [
    "# Select numeric columns\n",
    "numericVdotDf = vdotDf.select_dtypes(include=[np.number])\n",
    "numericVdotDf.dtypes"
   ]
  },
  {
   "cell_type": "markdown",
   "metadata": {},
   "source": [
    "### Basic statistical details"
   ]
  },
  {
   "cell_type": "code",
   "execution_count": 9,
   "metadata": {},
   "outputs": [
    {
     "data": {
      "text/plain": [
       "count    25457.000000\n",
       "mean      2360.722389\n",
       "std       2790.669661\n",
       "min          0.121676\n",
       "25%        537.514130\n",
       "50%       1355.110645\n",
       "75%       3039.613126\n",
       "max      27341.396063\n",
       "Name: Shape__Length, dtype: float64"
      ]
     },
     "execution_count": 9,
     "metadata": {},
     "output_type": "execute_result"
    }
   ],
   "source": [
    "numericVdotDf['Shape__Length'].describe()"
   ]
  },
  {
   "cell_type": "markdown",
   "metadata": {},
   "source": [
    "### Calculate z scores"
   ]
  },
  {
   "cell_type": "code",
   "execution_count": 10,
   "metadata": {},
   "outputs": [
    {
     "name": "stdout",
     "output_type": "stream",
     "text": [
      "[0.73605406 0.42562468 0.4300108  ... 0.80225336 0.79165523 2.00697132]\n"
     ]
    }
   ],
   "source": [
    "# import stats from scipy library\n",
    "from scipy import stats\n",
    "\n",
    "z = np.abs(stats.zscore(numericVdotDf['Shape__Length']))\n",
    "print(z)"
   ]
  },
  {
   "cell_type": "markdown",
   "metadata": {},
   "source": [
    "### Find rows where z-score is greater than 3"
   ]
  },
  {
   "cell_type": "code",
   "execution_count": 11,
   "metadata": {},
   "outputs": [
    {
     "data": {
      "text/plain": [
       "(array([   93,   120,   126,   128,   134,   139,   144,   218,   430,\n",
       "          437,   462,   499,   858,   874,   877,   882,   896,   913,\n",
       "          917,   922,   942,   961,   995,  1142,  1284,  1424,  1455,\n",
       "         1485,  1510,  1586,  1721,  1763,  2001,  2102,  2110,  2111,\n",
       "         2118,  2129,  2136,  2137,  2201,  2211,  2231,  2340,  2456,\n",
       "         2479,  2503,  2506,  2577,  2583,  2585,  2589,  2596,  2598,\n",
       "         2600,  2602,  2680,  2685,  2761,  2780,  2782,  3027,  3248,\n",
       "         3300,  3376,  3383,  3408,  3416,  3508,  3552,  3772,  3848,\n",
       "         3850,  3973,  4068,  4162,  4173,  4175,  4176,  4182,  4196,\n",
       "         4208,  4213,  4224,  4225,  4233,  4238,  4248,  4249,  4300,\n",
       "         4312,  4319,  4320,  4442,  4446,  4456,  4462,  4489,  4519,\n",
       "         4965,  4973,  4983,  4985,  5175,  5177,  5196,  5253,  5299,\n",
       "         5303,  5307,  5317,  5324,  5365,  5447,  5717,  5719,  5723,\n",
       "         5764,  5770,  5773,  5779,  5806,  5820,  5845,  5978,  6097,\n",
       "         6140,  6169,  6272,  6281,  6306,  6420,  6428,  6448,  6456,\n",
       "         6537,  6557,  6579,  6583,  6654,  6672,  6690,  6691,  6850,\n",
       "         6853,  6859,  6871,  6872,  6883,  6884,  6887,  6888,  7226,\n",
       "         7229,  7230,  7239,  7240,  7378,  7412,  7465,  7508,  7551,\n",
       "         7568,  7760,  7768,  7983,  7991,  7996,  8002,  8008,  8161,\n",
       "         8284,  8288,  8290,  8307,  8381,  8382,  8616,  8627,  8633,\n",
       "         8652,  8654,  8656,  8764,  8814,  8858,  8870,  8876,  8912,\n",
       "         8918,  9007,  9067,  9068,  9101,  9213,  9224,  9325,  9357,\n",
       "         9409,  9469,  9473,  9474,  9499,  9532,  9775,  9800,  9801,\n",
       "         9804,  9994, 10086, 10167, 10169, 10171, 10314, 10321, 10333,\n",
       "        10338, 10501, 10510, 10817, 10964, 10966, 11150, 11183, 11214,\n",
       "        11224, 11229, 11231, 11261, 11290, 11367, 11383, 11387, 11389,\n",
       "        11394, 11397, 11399, 11405, 11509, 11512, 11570, 11575, 11602,\n",
       "        11748, 11749, 11922, 12105, 12257, 12266, 12357, 12456, 12607,\n",
       "        12775, 12812, 12931, 12951, 12954, 12998, 13003, 13045, 13098,\n",
       "        13226, 13230, 13262, 13264, 13274, 13276, 13293, 13311, 13315,\n",
       "        13320, 13410, 13790, 13803, 13859, 13884, 14078, 14094, 14106,\n",
       "        14270, 14271, 14274, 14275, 14279, 14286, 14287, 14405, 14471,\n",
       "        14474, 14475, 14685, 14694, 14697, 14698, 14700, 14703, 14804,\n",
       "        14976, 14979, 14980, 15006, 15031, 15361, 15374, 15387, 15431,\n",
       "        15452, 15522, 15787, 15967, 15969, 16031, 16064, 16075, 16099,\n",
       "        16112, 16114, 16119, 16129, 16142, 16143, 16147, 16149, 16153,\n",
       "        16154, 16202, 16310, 16489, 16491, 16552, 16560, 16568, 16582,\n",
       "        16593, 16630, 16633, 16650, 16663, 16669, 16686, 16707, 16708,\n",
       "        16710, 16774, 16817, 16821, 16826, 16828, 16834, 16839, 16875,\n",
       "        16910, 16923, 16978, 17281, 17324, 17329, 17339, 17588, 17602,\n",
       "        17652, 17689, 17720, 17726, 17729, 17743, 17834, 17867, 17936,\n",
       "        17949, 18241, 18329, 18331, 18334, 18337, 18350, 18384, 18388,\n",
       "        18508, 18509, 18601, 18677, 18727, 18786, 18839, 18856, 18866,\n",
       "        18868, 18877, 18884, 18938, 18942, 18954, 18962, 18965, 18973,\n",
       "        19033, 19048, 19050, 19266, 19271, 19293, 19420, 19611, 19714,\n",
       "        19721, 19722, 19727, 19728, 19907, 20349, 20489, 20498, 20499,\n",
       "        20759, 20768, 20769, 20783, 20911, 20913, 20919, 20920, 20922,\n",
       "        20923, 20942, 20947, 21009, 21018, 21024, 21029, 21050, 21106,\n",
       "        21138, 21190, 21191, 21226, 21259, 21260, 21263, 21266, 21277,\n",
       "        21278, 21290, 21330, 21338, 21341, 21351, 21355, 21361, 21363,\n",
       "        21364, 21369, 21395, 21399, 21403, 21407, 21408, 21409, 21411,\n",
       "        21468, 21628, 21825, 21846, 21882, 21887, 21892, 21900, 21940,\n",
       "        22240, 22253, 22260, 22263, 22274, 22275, 22298, 22320, 22364,\n",
       "        22370, 22379, 22426, 22669, 22674, 22677, 22679, 22730, 22823,\n",
       "        22958, 22961, 22963, 22967, 22982, 22983, 22986, 22988, 23058,\n",
       "        23087, 23215, 23281, 23282, 23288, 23329, 23341, 23354, 23408,\n",
       "        23467, 23499, 23529, 23535, 23541, 23554, 23557, 23559, 23584,\n",
       "        23591, 23679, 23710, 23737, 23739, 23747, 23778, 23828, 23835,\n",
       "        23839, 23844, 23897, 23908, 23938, 23990, 24117, 24172, 24219,\n",
       "        24222, 24230, 24231, 24235, 24618, 24969, 24990, 25038, 25063,\n",
       "        25072, 25129, 25134, 25136, 25141, 25142, 25146, 25170, 25186,\n",
       "        25193, 25196, 25218, 25261, 25321, 25343, 25363, 25370],\n",
       "       dtype=int64),)"
      ]
     },
     "execution_count": 11,
     "metadata": {},
     "output_type": "execute_result"
    }
   ],
   "source": [
    "# Location (row index) where Shape__Length column has z_score greater than 3\n",
    "outliers_loc = np.where(z > 3)\n",
    "outliers_loc"
   ]
  },
  {
   "cell_type": "code",
   "execution_count": 12,
   "metadata": {},
   "outputs": [
    {
     "data": {
      "text/plain": [
       "9"
      ]
     },
     "execution_count": 12,
     "metadata": {},
     "output_type": "execute_result"
    }
   ],
   "source": [
    "# Find column index of Shape__Length\n",
    "numericVdotDf.columns.get_loc(\"Shape__Length\")"
   ]
  },
  {
   "cell_type": "code",
   "execution_count": 13,
   "metadata": {},
   "outputs": [
    {
     "data": {
      "text/plain": [
       "998     11418.144600\n",
       "1859    11015.357792\n",
       "1886    12532.867202\n",
       "1892    14159.382355\n",
       "1903    15005.123606\n",
       "Name: Shape__Length, dtype: float64"
      ]
     },
     "execution_count": 13,
     "metadata": {},
     "output_type": "execute_result"
    }
   ],
   "source": [
    "# Display 5 of the outlier values\n",
    "numericVdotDf.iloc[[93, 120, 126, 128, 134], 9]"
   ]
  }
 ],
 "metadata": {
  "kernelspec": {
   "display_name": "Python 3",
   "language": "python",
   "name": "python3"
  },
  "language_info": {
   "codemirror_mode": {
    "name": "ipython",
    "version": 3
   },
   "file_extension": ".py",
   "mimetype": "text/x-python",
   "name": "python",
   "nbconvert_exporter": "python",
   "pygments_lexer": "ipython3",
   "version": "3.6.5"
  }
 },
 "nbformat": 4,
 "nbformat_minor": 2
}
